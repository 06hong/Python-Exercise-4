{
 "cells": [
  {
   "cell_type": "markdown",
   "metadata": {},
   "source": [
    "# Object-Oriented-Programming (OOP)"
   ]
  },
  {
   "cell_type": "markdown",
   "metadata": {},
   "source": [
    "## Tasks Today:\n",
    "\n",
    "   \n",
    "\n",
    "1) <b>Creating a Class (Initializing/Declaring)</b> <br>\n",
    "2) <b>Using a Class (Instantiating)</b> <br>\n",
    " &nbsp;&nbsp;&nbsp;&nbsp; a) Creating One Instance <br>\n",
    " &nbsp;&nbsp;&nbsp;&nbsp; b) Creating Multiple Instances <br>\n",
    " &nbsp;&nbsp;&nbsp;&nbsp; c) In-Class Exercise #1 - Create a Class 'Car' and instantiate three different makes of cars <br>\n",
    "3) <b>The \\__init\\__() Method</b> <br>\n",
    " &nbsp;&nbsp;&nbsp;&nbsp; a) The 'self' Attribute <br>\n",
    "4) <b>Class Attributes</b> <br>\n",
    " &nbsp;&nbsp;&nbsp;&nbsp; a) Initializing Attributes <br>\n",
    " &nbsp;&nbsp;&nbsp;&nbsp; b) Setting an Attribute Outside of the \\__init\\__() Method <br>\n",
    " &nbsp;&nbsp;&nbsp;&nbsp; c) Setting Defaults for Attributes <br>\n",
    " &nbsp;&nbsp;&nbsp;&nbsp; d) Accessing Class Attributes <br>\n",
    " &nbsp;&nbsp;&nbsp;&nbsp; e) Changing Class Attributes <br>\n",
    " &nbsp;&nbsp;&nbsp;&nbsp; f) In-Class Exercise #2 - Add a color and wheels attribute to your 'Car' class <br>\n",
    "5) <b>Class Methods</b> <br>\n",
    " &nbsp;&nbsp;&nbsp;&nbsp; a) Creating <br>\n",
    " &nbsp;&nbsp;&nbsp;&nbsp; b) Calling <br>\n",
    " &nbsp;&nbsp;&nbsp;&nbsp; c) Modifying an Attribute's Value Through a Method <br>\n",
    " &nbsp;&nbsp;&nbsp;&nbsp; d) Incrementing an Attribute's Value Through a Method <br>\n",
    " &nbsp;&nbsp;&nbsp;&nbsp; e) In-Class Exercise #3 - Add a method that prints the cars color and wheel number, then call them <br>\n",
    "6) <b>Inheritance</b> <br>\n",
    " &nbsp;&nbsp;&nbsp;&nbsp; a) Syntax for Inheriting from a Parent Class <br>\n",
    " &nbsp;&nbsp;&nbsp;&nbsp; b) The \\__init\\__() Method for a Child Class (super()) <br>\n",
    " &nbsp;&nbsp;&nbsp;&nbsp; c) Defining Attributes and Methods for the Child Class <br>\n",
    " &nbsp;&nbsp;&nbsp;&nbsp; d) Method Overriding <br>\n",
    " &nbsp;&nbsp;&nbsp;&nbsp; e) In-Class Exercise #4 - Create a class 'Ford' that inherits from 'Car' class and initialize it as a Blue Ford Explorer with 4 wheels using the super() method <br>\n",
    "7) <b>Classes as Attributes</b> <br>\n",
    "8) <b>Exercises</b> <br>\n",
    " &nbsp;&nbsp;&nbsp;&nbsp; a) Exercise #1 - Turn the shopping cart program from yesterday into an object-oriented program <br>"
   ]
  },
  {
   "cell_type": "code",
   "execution_count": null,
   "metadata": {},
   "outputs": [],
   "source": [
    "# In Class Shopping Cart Example"
   ]
  },
  {
   "cell_type": "code",
   "execution_count": 13,
   "metadata": {},
   "outputs": [
    {
     "name": "stdout",
     "output_type": "stream",
     "text": [
      "['banana']\n",
      "[]\n"
     ]
    },
    {
     "name": "stdin",
     "output_type": "stream",
     "text": [
      " What would you like to do? Add/remove/show/clear refe\n"
     ]
    },
    {
     "name": "stdout",
     "output_type": "stream",
     "text": [
      "Sorry not a vaild response..\n"
     ]
    },
    {
     "name": "stdin",
     "output_type": "stream",
     "text": [
      " What would you like to do? Add/remove/show/clear efef\n"
     ]
    },
    {
     "name": "stdout",
     "output_type": "stream",
     "text": [
      "Sorry not a vaild response..\n"
     ]
    },
    {
     "name": "stdin",
     "output_type": "stream",
     "text": [
      " What would you like to do? Add/remove/show/clear add\n",
      "What would you like to add? babana\n",
      " What would you like to do? Add/remove/show/clear show\n"
     ]
    },
    {
     "name": "stdout",
     "output_type": "stream",
     "text": [
      "Here is your cart..\n",
      "babana\n"
     ]
    },
    {
     "name": "stdin",
     "output_type": "stream",
     "text": [
      " What would you like to do? Add/remove/show/clear clear\n"
     ]
    },
    {
     "name": "stdout",
     "output_type": "stream",
     "text": [
      "Your car is now empty..\n"
     ]
    },
    {
     "name": "stdin",
     "output_type": "stream",
     "text": [
      " What would you like to do? Add/remove/show/clear quit\n"
     ]
    },
    {
     "name": "stdout",
     "output_type": "stream",
     "text": [
      "Thanks for shopping with us!\n",
      "Here is your cart..\n"
     ]
    }
   ],
   "source": [
    "from IPython.display import clear_output\n",
    "\n",
    "cart=[]\n",
    "\n",
    "# adding item to cart \n",
    "\n",
    "def addItem(item):\n",
    "    clear_output\n",
    "    cart.append(item)\n",
    "    \n",
    "    \n",
    "    #Remove from cart\n",
    "def removeItem(item):\n",
    "    clear_output\n",
    "    cart.remove(item)\n",
    "    \n",
    "    \n",
    "addItem('banana')\n",
    "print(cart)\n",
    "removeItem('banana')\n",
    "print(cart)\n",
    "\n",
    " # Show Cart\n",
    "def showCart():\n",
    "    print(\"Here is your cart..\")\n",
    "    for item in cart:\n",
    "        print(item)\n",
    "        \n",
    "\n",
    "\n",
    "#Clear Cart\n",
    "\n",
    "def clearCart():\n",
    "    print('Your car is now empty..')\n",
    "    cart.clear()\n",
    "    \n",
    "    \n",
    "\n",
    "\n",
    "# Program utilizing pre-build functionality \n",
    "def shoppingCart():\n",
    "    while True:\n",
    "        response = input(\" What would you like to do? Add/remove/show/clear\")\n",
    "        if response.lower() == 'quit':\n",
    "            print('Thanks for shopping with us!')\n",
    "            showCart() #just call showCart()\n",
    "            break\n",
    "    \n",
    "        #take care of quit case first\n",
    "        elif response.lower() == 'add':\n",
    "            item_resp = input('What would you like to add?')\n",
    "            addItem(item_resp)\n",
    "            \n",
    "        elif response.lower() == 'remove':\n",
    "            showCart()\n",
    "            remove_resp = input(\"What do you wanna remove?\")\n",
    "            removeItem(remove_resp)\n",
    "    \n",
    "    \n",
    "        elif response.lower() == 'show':\n",
    "            showCart()\n",
    "        \n",
    "        elif response.lower() == 'clear':\n",
    "            clearCart()\n",
    "            \n",
    "        else:\n",
    "            print('Sorry not a vaild response..')\n",
    "        \n",
    "\n",
    "shoppingCart()"
   ]
  },
  {
   "cell_type": "markdown",
   "metadata": {},
   "source": [
    "## Creating a Class (Initializing/Declaring)\n",
    "<p>When creating a class, function, or even a variable you are initializing that object. Initializing and Declaring occur at the same time in Python, whereas in lower level languages you have to declare an object before initializing it. This is the first step in the process of using a class.</p>"
   ]
  },
  {
   "cell_type": "code",
   "execution_count": 16,
   "metadata": {},
   "outputs": [],
   "source": [
    "# class Car: Or class Car():\n",
    "\n",
    "class Car():\n",
    "    wheels = 4\n",
    "    color = 'blue'"
   ]
  },
  {
   "cell_type": "markdown",
   "metadata": {},
   "source": [
    "## Using a Class (Instantiating)\n",
    "<p>The process of creating a class is called <i>Instantiating</i>. Each time you create a variable of that type of class, it is referred to as an <i>Instance</i> of that class. This is the second step in the process of using a class.</p>"
   ]
  },
  {
   "cell_type": "markdown",
   "metadata": {},
   "source": [
    "##### Creating One Instance"
   ]
  },
  {
   "cell_type": "code",
   "execution_count": 20,
   "metadata": {},
   "outputs": [
    {
     "name": "stdout",
     "output_type": "stream",
     "text": [
      "<__main__.Car object at 0x106f0dee0>\n",
      "4\n",
      "blue\n"
     ]
    }
   ],
   "source": [
    "ford = Car()\n",
    "print(ford)\n",
    "\n",
    "print(ford.wheels)\n",
    "print(ford.color)"
   ]
  },
  {
   "cell_type": "markdown",
   "metadata": {},
   "source": [
    "##### Creating Multiple Instances"
   ]
  },
  {
   "cell_type": "code",
   "execution_count": 22,
   "metadata": {},
   "outputs": [
    {
     "name": "stdout",
     "output_type": "stream",
     "text": [
      "4\n",
      "blue\n"
     ]
    }
   ],
   "source": [
    "chevy = Car()\n",
    "honda = Car()\n",
    "lambo = Car()\n",
    "\n",
    "print(lambo.wheels)\n",
    "print(chevy.color)"
   ]
  },
  {
   "cell_type": "markdown",
   "metadata": {},
   "source": [
    "##### In-Class Exercise #1 - Create a Class 'Car' and Instantiate three different makes of cars"
   ]
  },
  {
   "cell_type": "code",
   "execution_count": 25,
   "metadata": {},
   "outputs": [
    {
     "name": "stdout",
     "output_type": "stream",
     "text": [
      "4\n",
      "True\n"
     ]
    }
   ],
   "source": [
    "class Car1():\n",
    "    door = 4\n",
    "    color = 'red'\n",
    "    wheels = 4\n",
    "    sunroof = True\n",
    "    \n",
    "chevy= Car1()\n",
    "honda = Car1()\n",
    "tesla = Car1()\n",
    "\n",
    "print(tesla.wheels)\n",
    "print(honda.sunroof)"
   ]
  },
  {
   "cell_type": "markdown",
   "metadata": {},
   "source": [
    "## The \\__init\\__() Method <br>\n",
    "<p>This method is used in almost every created class, and called only once upon the creation of the class instance. This method will initialize all variables needed for the object.</p>"
   ]
  },
  {
   "cell_type": "code",
   "execution_count": 33,
   "metadata": {},
   "outputs": [
    {
     "data": {
      "text/plain": [
       "3"
      ]
     },
     "execution_count": 33,
     "metadata": {},
     "output_type": "execute_result"
    }
   ],
   "source": [
    "# 'dunder' or double underscore  into double underscore (__init__())\n",
    "\n",
    "class Toy():\n",
    "    kind = \"Car\"\n",
    "    \n",
    "    def __init__(self, rooftop, horn, wheels):\n",
    "        self.rooftop = rooftop\n",
    "        self.horn = horn\n",
    "        self.wheels= wheels\n",
    "        \n",
    "hotwheels = Toy(1,1,4)\n",
    "tonka = Toy(3,3,18) #tonka.rooftop=3 etc\n",
    "\n",
    "tonka.rooftop"
   ]
  },
  {
   "cell_type": "markdown",
   "metadata": {},
   "source": [
    "##### The 'self' Attribute <br>\n",
    "<p>This attribute is required to keep track of specific instance's attributes. Without the self attribute, the program would not know how to reference or keep track of an instance's attributes.</p>"
   ]
  },
  {
   "cell_type": "code",
   "execution_count": null,
   "metadata": {},
   "outputs": [],
   "source": [
    "# see above"
   ]
  },
  {
   "cell_type": "markdown",
   "metadata": {},
   "source": [
    "## Class Attributes <br>\n",
    "<p>While variables are inside of a class, they are referred to as attributes and not variables. When someone says 'attribute' you know they're speaking about a class. Attributes can be initialized through the init method, or outside of it.</p>"
   ]
  },
  {
   "cell_type": "markdown",
   "metadata": {},
   "source": [
    "##### Initializing Attributes"
   ]
  },
  {
   "cell_type": "code",
   "execution_count": null,
   "metadata": {},
   "outputs": [],
   "source": [
    "# see above"
   ]
  },
  {
   "cell_type": "markdown",
   "metadata": {},
   "source": [
    "##### Accessing Class Attributes"
   ]
  },
  {
   "cell_type": "code",
   "execution_count": 112,
   "metadata": {
    "scrolled": true
   },
   "outputs": [
    {
     "data": {
      "text/plain": [
       "1"
      ]
     },
     "execution_count": 112,
     "metadata": {},
     "output_type": "execute_result"
    }
   ],
   "source": [
    "tonka = Toy(1,1,4)\n",
    "\n",
    "tonka.rooftop\n",
    "tonka.wheels"
   ]
  },
  {
   "cell_type": "markdown",
   "metadata": {},
   "source": [
    "##### Setting Defaults for Attributes"
   ]
  },
  {
   "cell_type": "code",
   "execution_count": 41,
   "metadata": {},
   "outputs": [
    {
     "data": {
      "text/plain": [
       "'Black'"
      ]
     },
     "execution_count": 41,
     "metadata": {},
     "output_type": "execute_result"
    }
   ],
   "source": [
    "class human:\n",
    "    def __init__(self, eyes, height, activity, hair='Brown'):\n",
    "        self.eyes= eyes\n",
    "        self.height = height\n",
    "        self.activity = activity \n",
    "        self.hair = hair \n",
    "nate = human('blue', '6ftin', True)\n",
    "\n",
    "Julia = human('brown', '5ft10in', True, 'Black')\n",
    "\n",
    "Julia.hair"
   ]
  },
  {
   "cell_type": "markdown",
   "metadata": {},
   "source": [
    "##### Changing Class Attributes <br>\n",
    "<p>Keep in mind there are global class attributes and then there are attributes only available to each class instance which won't effect other classes.</p>"
   ]
  },
  {
   "cell_type": "code",
   "execution_count": 44,
   "metadata": {},
   "outputs": [
    {
     "name": "stdout",
     "output_type": "stream",
     "text": [
      "BEFORE attribute change: Black\n",
      "AFTER attribute change: Blonde\n"
     ]
    },
    {
     "data": {
      "text/plain": [
       "'Blonde'"
      ]
     },
     "execution_count": 44,
     "metadata": {},
     "output_type": "execute_result"
    }
   ],
   "source": [
    "# changing the attribute \n",
    "print(f'BEFORE attribute change: {Julia.hair}')\n",
    "\n",
    "Julia.hair = 'Blonde'\n",
    "\n",
    "print(f'AFTER attribute change: {Julia.hair}')\n",
    "\n",
    "Julia.hair"
   ]
  },
  {
   "cell_type": "code",
   "execution_count": null,
   "metadata": {},
   "outputs": [],
   "source": []
  },
  {
   "cell_type": "markdown",
   "metadata": {},
   "source": [
    "##### In-Class Exercise #2 - Add a doors and seats attribute to your 'Car' class then print out two different instances with different doors and seats"
   ]
  },
  {
   "cell_type": "code",
   "execution_count": 54,
   "metadata": {},
   "outputs": [
    {
     "name": "stdout",
     "output_type": "stream",
     "text": [
      "This car has 2 doors and 4 seats!\n"
     ]
    }
   ],
   "source": [
    "# jeep - 2 doors 4 seats and lambo 2 doors 2 sits\n",
    "class Car2:\n",
    "    def __init__(self, doors, seats=2):\n",
    "        self.doors = doors\n",
    "        self.seats = seats\n",
    "        \n",
    "    def printcar(self):\n",
    "        \n",
    "        print(f'This car has {self.doors} doors and {self.seats} seats!')\n",
    "\n",
    "jeep = Car2(2,4)\n",
    "lambo = Car2(2)\n",
    "\n",
    "jeep.printcar()      "
   ]
  },
  {
   "cell_type": "markdown",
   "metadata": {},
   "source": [
    "## Class Methods <br>\n",
    "<p>While inside of a class, functions are referred to as 'methods'. If you hear someone mention methods, they're speaking about classes. Methods are essentially functions, but only callable on the instances of a class.</p>"
   ]
  },
  {
   "cell_type": "markdown",
   "metadata": {},
   "source": [
    "##### Creating"
   ]
  },
  {
   "cell_type": "code",
   "execution_count": 124,
   "metadata": {},
   "outputs": [
    {
     "name": "stdout",
     "output_type": "stream",
     "text": [
      "Your current bag capacity is: 25\n",
      "Cannot do that here..\n",
      "Your current bag capacity is: 25\n"
     ]
    }
   ],
   "source": [
    "class shoppingBag:\n",
    "    \"\"\"\n",
    "       the shoppingbag class will have handles, capacity, and items to place inside.\n",
    "       \n",
    "       Attributes for class:\n",
    "       -handles: expected to be an integer\n",
    "       -capacity: expected to be a string or integer\n",
    "       -items: expected to be a list \n",
    "    \n",
    "    \"\"\"\n",
    "    \n",
    "    def __init__(self, handles, capacity, items):\n",
    "        self.handles = handles\n",
    "        self.capacity = capacity\n",
    "        self.items=items\n",
    "        \n",
    "    #Method to show all items in items list \n",
    "    \n",
    "    def showShoppingBag(self):\n",
    "        print(\"Here are the items in your bag...\")\n",
    "        for item in self.items:\n",
    "            print(item)\n",
    "            \n",
    "            \n",
    "    \n",
    "    #Method to show capacity:\n",
    "    def showCapacity(self):\n",
    "        print(f'Your current bag capacity is: {self.capacity}')\n",
    "        \n",
    "    \n",
    "   \n",
    "     #Method to add items to bag:\n",
    "    def addToShoppingBag(self):\n",
    "        product = input('What would you like to add? ')\n",
    "        self.items.append(product)\n",
    "        print(f'Here is your new bag: {self.items} ')\n",
    "        \n",
    "        \n",
    "    \n",
    "    #change capacity dynamically\n",
    "    def changeCapacity(self, x):\n",
    "        self.capacity= x #change it to whatever variable \n",
    "        \n",
    "   \n",
    "    \n",
    "    # increas capacity of bag by 10\n",
    "    def increaseCapacity(self, changed_cap=10):\n",
    "        if isinstance(self.capacity, str): #if self.capacity is a str u cant do that\n",
    "            print('Cannot do that here..')\n",
    "        else:\n",
    "            self.capacity += changed_cap\n",
    "\n",
    "        \n",
    "pacsun= shoppingBag(2,10,[])\n",
    "pacsun.changeCapacity('25')\n",
    "pacsun.showCapacity()\n",
    "pacsun.increaseCapacity()\n",
    "pacsun.showCapacity()\n",
    "    \n",
    "\n",
    "\n",
    "    "
   ]
  },
  {
   "cell_type": "markdown",
   "metadata": {},
   "source": [
    "##### Calling"
   ]
  },
  {
   "cell_type": "code",
   "execution_count": 81,
   "metadata": {},
   "outputs": [
    {
     "name": "stdin",
     "output_type": "stream",
     "text": [
      "What do you want to do? add/show/quit add\n",
      "What would you like to add?  polo\n"
     ]
    },
    {
     "name": "stdout",
     "output_type": "stream",
     "text": [
      "Here is your new bag: ['polo'] \n"
     ]
    },
    {
     "name": "stdin",
     "output_type": "stream",
     "text": [
      "What do you want to do? add/show/quit polo shirt\n"
     ]
    },
    {
     "name": "stdout",
     "output_type": "stream",
     "text": [
      "Not a valid input-- please retry\n"
     ]
    },
    {
     "name": "stdin",
     "output_type": "stream",
     "text": [
      "What do you want to do? add/show/quit add\n",
      "What would you like to add?  polo shirt\n"
     ]
    },
    {
     "name": "stdout",
     "output_type": "stream",
     "text": [
      "Here is your new bag: ['polo', 'polo shirt'] \n"
     ]
    },
    {
     "ename": "KeyboardInterrupt",
     "evalue": "Interrupted by user",
     "output_type": "error",
     "traceback": [
      "\u001b[0;31m---------------------------------------------------------------------------\u001b[0m",
      "\u001b[0;31mKeyboardInterrupt\u001b[0m                         Traceback (most recent call last)",
      "\u001b[0;32m<ipython-input-81-bdff636c1433>\u001b[0m in \u001b[0;36m<module>\u001b[0;34m\u001b[0m\n\u001b[1;32m     26\u001b[0m             \u001b[0mprint\u001b[0m\u001b[0;34m(\u001b[0m\u001b[0;34m'Not a valid input-- please retry'\u001b[0m\u001b[0;34m)\u001b[0m\u001b[0;34m\u001b[0m\u001b[0;34m\u001b[0m\u001b[0m\n\u001b[1;32m     27\u001b[0m \u001b[0;34m\u001b[0m\u001b[0m\n\u001b[0;32m---> 28\u001b[0;31m \u001b[0mrun\u001b[0m\u001b[0;34m(\u001b[0m\u001b[0;34m)\u001b[0m\u001b[0;34m\u001b[0m\u001b[0;34m\u001b[0m\u001b[0m\n\u001b[0m\u001b[1;32m     29\u001b[0m \u001b[0;34m\u001b[0m\u001b[0m\n",
      "\u001b[0;32m<ipython-input-81-bdff636c1433>\u001b[0m in \u001b[0;36mrun\u001b[0;34m()\u001b[0m\n\u001b[1;32m      8\u001b[0m     \u001b[0mwhole_foods\u001b[0m\u001b[0;34m=\u001b[0m \u001b[0mshoppingBag\u001b[0m\u001b[0;34m(\u001b[0m\u001b[0;36m2\u001b[0m\u001b[0;34m,\u001b[0m\u001b[0;36m10\u001b[0m\u001b[0;34m,\u001b[0m\u001b[0;34m[\u001b[0m\u001b[0;34m]\u001b[0m\u001b[0;34m)\u001b[0m \u001b[0;31m#to overrun whartever the fuck above\u001b[0m\u001b[0;34m\u001b[0m\u001b[0;34m\u001b[0m\u001b[0m\n\u001b[1;32m      9\u001b[0m     \u001b[0;32mwhile\u001b[0m \u001b[0;32mTrue\u001b[0m\u001b[0;34m:\u001b[0m\u001b[0;34m\u001b[0m\u001b[0;34m\u001b[0m\u001b[0m\n\u001b[0;32m---> 10\u001b[0;31m         \u001b[0mresponse\u001b[0m \u001b[0;34m=\u001b[0m \u001b[0minput\u001b[0m\u001b[0;34m(\u001b[0m\u001b[0;34m'What do you want to do? add/show/quit'\u001b[0m\u001b[0;34m)\u001b[0m\u001b[0;34m\u001b[0m\u001b[0;34m\u001b[0m\u001b[0m\n\u001b[0m\u001b[1;32m     11\u001b[0m \u001b[0;34m\u001b[0m\u001b[0m\n\u001b[1;32m     12\u001b[0m         \u001b[0;32mif\u001b[0m \u001b[0mresponse\u001b[0m\u001b[0;34m.\u001b[0m\u001b[0mlower\u001b[0m\u001b[0;34m(\u001b[0m\u001b[0;34m)\u001b[0m \u001b[0;34m==\u001b[0m \u001b[0;34m'quit'\u001b[0m\u001b[0;34m:\u001b[0m\u001b[0;34m\u001b[0m\u001b[0;34m\u001b[0m\u001b[0m\n",
      "\u001b[0;32m/opt/anaconda3/lib/python3.8/site-packages/ipykernel/kernelbase.py\u001b[0m in \u001b[0;36mraw_input\u001b[0;34m(self, prompt)\u001b[0m\n\u001b[1;32m    858\u001b[0m                 \u001b[0;34m\"raw_input was called, but this frontend does not support input requests.\"\u001b[0m\u001b[0;34m\u001b[0m\u001b[0;34m\u001b[0m\u001b[0m\n\u001b[1;32m    859\u001b[0m             )\n\u001b[0;32m--> 860\u001b[0;31m         return self._input_request(str(prompt),\n\u001b[0m\u001b[1;32m    861\u001b[0m             \u001b[0mself\u001b[0m\u001b[0;34m.\u001b[0m\u001b[0m_parent_ident\u001b[0m\u001b[0;34m,\u001b[0m\u001b[0;34m\u001b[0m\u001b[0;34m\u001b[0m\u001b[0m\n\u001b[1;32m    862\u001b[0m             \u001b[0mself\u001b[0m\u001b[0;34m.\u001b[0m\u001b[0m_parent_header\u001b[0m\u001b[0;34m,\u001b[0m\u001b[0;34m\u001b[0m\u001b[0;34m\u001b[0m\u001b[0m\n",
      "\u001b[0;32m/opt/anaconda3/lib/python3.8/site-packages/ipykernel/kernelbase.py\u001b[0m in \u001b[0;36m_input_request\u001b[0;34m(self, prompt, ident, parent, password)\u001b[0m\n\u001b[1;32m    902\u001b[0m             \u001b[0;32mexcept\u001b[0m \u001b[0mKeyboardInterrupt\u001b[0m\u001b[0;34m:\u001b[0m\u001b[0;34m\u001b[0m\u001b[0;34m\u001b[0m\u001b[0m\n\u001b[1;32m    903\u001b[0m                 \u001b[0;31m# re-raise KeyboardInterrupt, to truncate traceback\u001b[0m\u001b[0;34m\u001b[0m\u001b[0;34m\u001b[0m\u001b[0;34m\u001b[0m\u001b[0m\n\u001b[0;32m--> 904\u001b[0;31m                 \u001b[0;32mraise\u001b[0m \u001b[0mKeyboardInterrupt\u001b[0m\u001b[0;34m(\u001b[0m\u001b[0;34m\"Interrupted by user\"\u001b[0m\u001b[0;34m)\u001b[0m \u001b[0;32mfrom\u001b[0m \u001b[0;32mNone\u001b[0m\u001b[0;34m\u001b[0m\u001b[0;34m\u001b[0m\u001b[0m\n\u001b[0m\u001b[1;32m    905\u001b[0m             \u001b[0;32mexcept\u001b[0m \u001b[0mException\u001b[0m \u001b[0;32mas\u001b[0m \u001b[0me\u001b[0m\u001b[0;34m:\u001b[0m\u001b[0;34m\u001b[0m\u001b[0;34m\u001b[0m\u001b[0m\n\u001b[1;32m    906\u001b[0m                 \u001b[0mself\u001b[0m\u001b[0;34m.\u001b[0m\u001b[0mlog\u001b[0m\u001b[0;34m.\u001b[0m\u001b[0mwarning\u001b[0m\u001b[0;34m(\u001b[0m\u001b[0;34m\"Invalid Message:\"\u001b[0m\u001b[0;34m,\u001b[0m \u001b[0mexc_info\u001b[0m\u001b[0;34m=\u001b[0m\u001b[0;32mTrue\u001b[0m\u001b[0;34m)\u001b[0m\u001b[0;34m\u001b[0m\u001b[0;34m\u001b[0m\u001b[0m\n",
      "\u001b[0;31mKeyboardInterrupt\u001b[0m: Interrupted by user"
     ]
    }
   ],
   "source": [
    "\n",
    "# see above\n",
    "\n",
    "#create a new instance of shoppingBag\n",
    "\n",
    "\n",
    "\n",
    "def run():\n",
    "    \n",
    "    whole_foods= shoppingBag(2,10,[]) #to overrun whartever the fuck above \n",
    "   \n",
    "    while True:\n",
    "        \n",
    "        response = input('What do you want to do? add/show/quit')\n",
    "        \n",
    "        if response.lower() == 'quit':\n",
    "            whole_foods.showShoppingBag()\n",
    "            break \n",
    "            \n",
    "        \n",
    "        elif response.lower() == 'add':\n",
    "            whole_foods.addToShoppingBag()\n",
    "            \n",
    "        \n",
    "        elif response.lower() == 'show':\n",
    "            whole_foods.showShoppingBag()\n",
    "            \n",
    "            \n",
    "        else:\n",
    "            print('Not a valid input-- please retry')\n",
    "            \n",
    "run()\n",
    "            "
   ]
  },
  {
   "cell_type": "markdown",
   "metadata": {},
   "source": [
    "##### Modifying an Attribute's Value Through a Method"
   ]
  },
  {
   "cell_type": "code",
   "execution_count": 84,
   "metadata": {},
   "outputs": [
    {
     "name": "stdout",
     "output_type": "stream",
     "text": [
      "Your current bag capacity is: 100\n"
     ]
    }
   ],
   "source": [
    "mcdonalds=shoppingBag(2,100,[])\n",
    "mcdonalds.showCapacity()\n",
    "\n"
   ]
  },
  {
   "cell_type": "markdown",
   "metadata": {},
   "source": [
    "##### Incrementing an Attribute's Value Through a Method"
   ]
  },
  {
   "cell_type": "code",
   "execution_count": 85,
   "metadata": {},
   "outputs": [
    {
     "name": "stdout",
     "output_type": "stream",
     "text": [
      "Your current bag capacity is: 110\n"
     ]
    }
   ],
   "source": [
    "mcdonalds.increaseCapacity()\n",
    "mcdonalds.showCapacity()"
   ]
  },
  {
   "cell_type": "markdown",
   "metadata": {},
   "source": [
    "##### In-Class Exercise #3 - Add a method that takes in three parameters of year, doors and seats and prints out a formatted print statement with make, model, year, seats, and doors"
   ]
  },
  {
   "cell_type": "code",
   "execution_count": 90,
   "metadata": {},
   "outputs": [
    {
     "name": "stdout",
     "output_type": "stream",
     "text": [
      "this car is from 2021 and is a Ford MS and has 4 doors and 5 seats\n"
     ]
    }
   ],
   "source": [
    "# Create class with 2 paramters inside of the __init__ which are make and model\n",
    "\n",
    "\n",
    "# Inside of the Car class create a method that has 4 parameter in total (self,year,door,seats)\n",
    "\n",
    "# Output: This car is from 2019 and is a Ford Expolorer and has 4 doors and 5 seats\n",
    "\n",
    "class Car2:\n",
    "    def __init__(self, make=\"Ford\", model=\"Explorer\"):\n",
    "        self.make = make\n",
    "        self.model = model\n",
    "        \n",
    "    def carMethod(self, year, doors, seats):\n",
    "        print(f'this car is from {year} and is a {self.make} {self.model} and has {doors} doors and {seats} seats')\n",
    "bmw = Car2(model='MS')\n",
    "bmw.carMethod(2021,4,5)"
   ]
  },
  {
   "cell_type": "markdown",
   "metadata": {},
   "source": [
    "## Inheritance <br>\n",
    "<p>You can create a child-parent relationship between two classes by using inheritance. What this allows you to do is have overriding methods, but also inherit traits from the parent class. Think of it as an actual parent and child, the child will inherit the parent's genes, as will the classes in OOP</p>"
   ]
  },
  {
   "cell_type": "markdown",
   "metadata": {},
   "source": [
    "##### Syntax for Inheriting from a Parent Class"
   ]
  },
  {
   "cell_type": "code",
   "execution_count": 102,
   "metadata": {},
   "outputs": [
    {
     "name": "stdout",
     "output_type": "stream",
     "text": [
      "This Dog has a speed of 15 and his name is Griffin\n"
     ]
    },
    {
     "data": {
      "text/plain": [
       "'Blue'"
      ]
     },
     "execution_count": 102,
     "metadata": {},
     "output_type": "execute_result"
    }
   ],
   "source": [
    "# creation of our parent class === animal\n",
    "\n",
    "class Animal:\n",
    "    def __init__(self, name, species, legs = 4):\n",
    "        self.name= name\n",
    "        self.species= species\n",
    "        self.legs= legs\n",
    "        \n",
    "    \n",
    "    # Generis Parent (animal) method- no override yet\n",
    "    def makeSound(self):\n",
    "        print('Make Some Generic Sound')\n",
    "        \n",
    "#child class        \n",
    "class Dog(Animal):\n",
    "    speed = 15\n",
    "    \n",
    "    def printInfo(self):\n",
    "        print(f'This Dog has a speed of {self.speed} and his name is {self.name}')\n",
    "    \n",
    "    def makeSound(self):\n",
    "        noise=\"Bark\"\n",
    "        print(noise)\n",
    "    \n",
    "griffin = Dog('Griffin', 'Labrador Retriever')\n",
    "\n",
    "griffin.printInfo() #passing all the dog\n",
    "\n",
    "\n",
    "\n",
    "#grandchild class \n",
    "class Mutt(Dog):\n",
    "    def __init__(self, name, species, eye_color, legs=4):\n",
    "        Dog.__init__(self, name, species, legs)\n",
    "        self.eye_color=eye_color\n",
    "        \n",
    "        \n",
    "hank=Mutt('Hank','Mutt','Blue')\n",
    "hank.eye_color\n",
    "\n",
    "         \n",
    "        \n"
   ]
  },
  {
   "cell_type": "markdown",
   "metadata": {},
   "source": [
    "##### The \\__init\\__() Method for a Child Class - super()"
   ]
  },
  {
   "cell_type": "code",
   "execution_count": 107,
   "metadata": {
    "scrolled": true
   },
   "outputs": [
    {
     "ename": "TypeError",
     "evalue": "__init__() takes from 3 to 4 positional arguments but 5 were given",
     "output_type": "error",
     "traceback": [
      "\u001b[0;31m---------------------------------------------------------------------------\u001b[0m",
      "\u001b[0;31mTypeError\u001b[0m                                 Traceback (most recent call last)",
      "\u001b[0;32m<ipython-input-107-2438d6fcb3c8>\u001b[0m in \u001b[0;36m<module>\u001b[0;34m\u001b[0m\n\u001b[1;32m      4\u001b[0m         \u001b[0mself\u001b[0m\u001b[0;34m.\u001b[0m\u001b[0meye_color\u001b[0m\u001b[0;34m=\u001b[0m\u001b[0meye_color\u001b[0m\u001b[0;34m\u001b[0m\u001b[0;34m\u001b[0m\u001b[0m\n\u001b[1;32m      5\u001b[0m \u001b[0;34m\u001b[0m\u001b[0m\n\u001b[0;32m----> 6\u001b[0;31m \u001b[0mAustin\u001b[0m\u001b[0;34m=\u001b[0m \u001b[0mYorkie\u001b[0m\u001b[0;34m(\u001b[0m\u001b[0;34m'austin'\u001b[0m\u001b[0;34m,\u001b[0m\u001b[0;34m'yorkie'\u001b[0m\u001b[0;34m,\u001b[0m\u001b[0;34m'brown'\u001b[0m\u001b[0;34m,\u001b[0m\u001b[0;36m3\u001b[0m\u001b[0;34m)\u001b[0m\u001b[0;34m\u001b[0m\u001b[0;34m\u001b[0m\u001b[0m\n\u001b[0m\u001b[1;32m      7\u001b[0m \u001b[0mAustin\u001b[0m\u001b[0;34m.\u001b[0m\u001b[0mmakeSound\u001b[0m\u001b[0;34m(\u001b[0m\u001b[0;34m)\u001b[0m\u001b[0;34m\u001b[0m\u001b[0;34m\u001b[0m\u001b[0m\n",
      "\u001b[0;32m<ipython-input-107-2438d6fcb3c8>\u001b[0m in \u001b[0;36m__init__\u001b[0;34m(self, name, species, eye_color, legs)\u001b[0m\n\u001b[1;32m      1\u001b[0m \u001b[0;32mclass\u001b[0m \u001b[0mYorkie\u001b[0m\u001b[0;34m(\u001b[0m\u001b[0mDog\u001b[0m\u001b[0;34m)\u001b[0m\u001b[0;34m:\u001b[0m\u001b[0;34m\u001b[0m\u001b[0;34m\u001b[0m\u001b[0m\n\u001b[1;32m      2\u001b[0m     \u001b[0;32mdef\u001b[0m \u001b[0m__init__\u001b[0m\u001b[0;34m(\u001b[0m\u001b[0mself\u001b[0m\u001b[0;34m,\u001b[0m \u001b[0mname\u001b[0m\u001b[0;34m,\u001b[0m \u001b[0mspecies\u001b[0m\u001b[0;34m,\u001b[0m \u001b[0meye_color\u001b[0m\u001b[0;34m,\u001b[0m \u001b[0mlegs\u001b[0m\u001b[0;34m=\u001b[0m\u001b[0;36m4\u001b[0m\u001b[0;34m)\u001b[0m\u001b[0;34m:\u001b[0m\u001b[0;34m\u001b[0m\u001b[0;34m\u001b[0m\u001b[0m\n\u001b[0;32m----> 3\u001b[0;31m         \u001b[0msuper\u001b[0m\u001b[0;34m(\u001b[0m\u001b[0;34m)\u001b[0m\u001b[0;34m.\u001b[0m\u001b[0m__init__\u001b[0m\u001b[0;34m(\u001b[0m\u001b[0mself\u001b[0m\u001b[0;34m,\u001b[0m \u001b[0mname\u001b[0m\u001b[0;34m,\u001b[0m \u001b[0mspecies\u001b[0m\u001b[0;34m,\u001b[0m \u001b[0mlegs\u001b[0m\u001b[0;34m)\u001b[0m\u001b[0;34m\u001b[0m\u001b[0;34m\u001b[0m\u001b[0m\n\u001b[0m\u001b[1;32m      4\u001b[0m         \u001b[0mself\u001b[0m\u001b[0;34m.\u001b[0m\u001b[0meye_color\u001b[0m\u001b[0;34m=\u001b[0m\u001b[0meye_color\u001b[0m\u001b[0;34m\u001b[0m\u001b[0;34m\u001b[0m\u001b[0m\n\u001b[1;32m      5\u001b[0m \u001b[0;34m\u001b[0m\u001b[0m\n",
      "\u001b[0;31mTypeError\u001b[0m: __init__() takes from 3 to 4 positional arguments but 5 were given"
     ]
    }
   ],
   "source": [
    "class Yorkie(Dog):\n",
    "    def __init__(self, name, species, eye_color, legs=4):\n",
    "        super().__init__(self, name, species, legs)\n",
    "        self.eye_color=eye_color\n",
    "        \n",
    "Austin= Yorkie('austin','yorkie','brown',3)\n",
    "Austin.makeSound()"
   ]
  },
  {
   "cell_type": "markdown",
   "metadata": {},
   "source": [
    "##### Defining Attributes and Methods for the Child Class"
   ]
  },
  {
   "cell_type": "code",
   "execution_count": null,
   "metadata": {},
   "outputs": [],
   "source": [
    "# See Above"
   ]
  },
  {
   "cell_type": "markdown",
   "metadata": {},
   "source": [
    "##### Method Overriding"
   ]
  },
  {
   "cell_type": "code",
   "execution_count": null,
   "metadata": {},
   "outputs": [],
   "source": [
    "# See Above"
   ]
  },
  {
   "cell_type": "markdown",
   "metadata": {},
   "source": [
    "## Classes as Attributes <br>\n",
    "<p>Classes can also be used as attributes within another class. This is useful in situations where you need to keep variables locally stored, instead of globally stored.</p>"
   ]
  },
  {
   "cell_type": "code",
   "execution_count": 110,
   "metadata": {},
   "outputs": [
    {
     "data": {
      "text/plain": [
       "16"
      ]
     },
     "execution_count": 110,
     "metadata": {},
     "output_type": "execute_result"
    }
   ],
   "source": [
    "class Battery:\n",
    "    volts= 7.8\n",
    "    \n",
    "    def __init__(self,cells):\n",
    "        self.cells=cells\n",
    "\n",
    "class Car:\n",
    "    def __init__(self, make, battery):\n",
    "        self.make = make\n",
    "        self.battery= battery\n",
    "        \n",
    "batt = Battery(16)\n",
    "\n",
    "testa = Car('tesla', batt)\n",
    "\n",
    "testa.battery.cells"
   ]
  },
  {
   "cell_type": "markdown",
   "metadata": {},
   "source": [
    "# Exercises"
   ]
  },
  {
   "cell_type": "markdown",
   "metadata": {},
   "source": [
    "### Exercise 1 - Turn the shopping cart program from yesterday into an object-oriented program\n",
    "\n",
    "The comments in the cell below are there as a guide for thinking about the problem. However, if you feel a different way is best for you and your own thought process, please do what feels best for you by all means."
   ]
  },
  {
   "cell_type": "code",
   "execution_count": 135,
   "metadata": {},
   "outputs": [
    {
     "name": "stdin",
     "output_type": "stream",
     "text": [
      "Do you want to: Show/Add/Delete or Quit? add\n",
      "Type in what you want to add: sushi\n",
      "Do you want to: Show/Add/Delete or Quit? aff\n",
      "Do you want to: Show/Add/Delete or Quit? add\n",
      "Type in what you want to add: pasta\n",
      "Do you want to: Show/Add/Delete or Quit? add\n",
      "Type in what you want to add: udon\n",
      "Do you want to: Show/Add/Delete or Quit? show\n"
     ]
    },
    {
     "name": "stdout",
     "output_type": "stream",
     "text": [
      "Here is what you have so far:\n",
      "sushi pasta udon "
     ]
    },
    {
     "name": "stdin",
     "output_type": "stream",
     "text": [
      "Do you want to: Show/Add/Delete or Quit? quit\n"
     ]
    },
    {
     "name": "stdout",
     "output_type": "stream",
     "text": [
      "here are your items: sushi pasta udon "
     ]
    }
   ],
   "source": [
    "# Create a class called cart that retains items and has methods to add, remove, and show\n",
    "\n",
    "class cart():\n",
    "    mycart = {} \n",
    "    \n",
    "    \n",
    "    \n",
    "    def __init__(self):\n",
    "        pass\n",
    "        \n",
    "#         while True: \n",
    "#             self.ask = input('Do you want to : Show/Add/Delete or Quit?')\n",
    "#             if self.ask.lower() == 'add':\n",
    "#                 self.addMethod()\n",
    "        \n",
    "        \n",
    "            \n",
    "        \n",
    "        \n",
    "    \n",
    "    #methods\n",
    "    #add\n",
    "    def addMethod(self):\n",
    "        self.additem=input('Type in what you want to add:')\n",
    "        self.mycart[self.additem]=self.additem\n",
    "        \n",
    "        \n",
    "        \n",
    "        \n",
    "    \n",
    "    \n",
    "    #delete\n",
    "    def deleteMethod(self):\n",
    "        self.deleteitem=input('Type in what you want to delete:')\n",
    "        del self.mycart[self.deleteitem]\n",
    "        \n",
    "        \n",
    "        \n",
    "    \n",
    "    #show\n",
    "    def showMethod(self):\n",
    "        print(f'Here is what you have so far:')\n",
    "        for key in self.mycart.keys():\n",
    "            print(key, end=\" \")\n",
    "        \n",
    "        \n",
    "        \n",
    "        \n",
    "    #quit\n",
    "    def quitMethod(self):\n",
    "        print(f'here are your items:', end=\" \")\n",
    "        for el in self.mycart:\n",
    "            print(el, end=\" \")\n",
    "        \n",
    "    \n",
    "\n",
    "    \n",
    "\n",
    "\n",
    "while True:    \n",
    "    walmart=cart()\n",
    "    ask = input('Do you want to: Show/Add/Delete or Quit?')\n",
    "\n",
    "    if ask.lower() == 'add':\n",
    "        walmart.addMethod()\n",
    "        \n",
    "        \n",
    "    if ask.lower() == 'delete':\n",
    "        walmart.deleteMethod()\n",
    "        \n",
    "        \n",
    "    if ask.lower() == 'show':\n",
    "        walmart.showMethod()\n",
    "        \n",
    "        \n",
    "    if ask.lower() == 'quit':\n",
    "        walmart.quitMethod()\n",
    "        break\n",
    "        \n",
    "   \n",
    "    "
   ]
  },
  {
   "cell_type": "markdown",
   "metadata": {},
   "source": [
    "### Exercise 2 - Write a Python class which has two methods get_String and print_String. get_String accept a string from the user and print_String print the string in upper case"
   ]
  },
  {
   "cell_type": "code",
   "execution_count": null,
   "metadata": {},
   "outputs": [],
   "source": [
    "class pythonMethods:\n",
    "    \n",
    "    #any class has init method whether u make one or not\n",
    "    def __init__(self):\n",
    "        pass\n",
    "        \n",
    "        \n",
    "        \n",
    "        \n",
    "    #Methods\n",
    "    \n",
    "    # accept a string from the user \n",
    "    def get_String(self):\n",
    "        self.ask=input(\"Type your string here:\")\n",
    "        \n",
    "        \n",
    "        \n",
    "        \n",
    "        \n",
    "        \n",
    "     \n",
    "    #print the string in upper case\n",
    "    def print_String(self):\n",
    "        print(self.ask.upper())\n",
    "        \n",
    "        \n",
    "\n",
    "\n",
    "thisObject=pythonMethods()\n",
    "thisObject.get_String()\n",
    "thisObject.print_String()\n",
    "        \n",
    "        \n",
    "  \n",
    "\n",
    "\n",
    "\n"
   ]
  },
  {
   "cell_type": "code",
   "execution_count": null,
   "metadata": {},
   "outputs": [],
   "source": []
  }
 ],
 "metadata": {
  "kernelspec": {
   "display_name": "Python 3",
   "language": "python",
   "name": "python3"
  },
  "language_info": {
   "codemirror_mode": {
    "name": "ipython",
    "version": 3
   },
   "file_extension": ".py",
   "mimetype": "text/x-python",
   "name": "python",
   "nbconvert_exporter": "python",
   "pygments_lexer": "ipython3",
   "version": "3.8.10"
  }
 },
 "nbformat": 4,
 "nbformat_minor": 4
}
